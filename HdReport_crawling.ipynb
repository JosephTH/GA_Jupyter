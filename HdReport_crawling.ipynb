{
 "cells": [
  {
   "cell_type": "code",
   "execution_count": 55,
   "metadata": {
    "collapsed": false
   },
   "outputs": [],
   "source": [
    "from selenium import webdriver\n",
    "import pandas as pd\n",
    "import openpyxl as op\n",
    "import time\n",
    "import re\n",
    "from datetime import date, timedelta\n",
    "from dateutil.relativedelta import relativedelta\n",
    "import requests\n",
    "from bs4 import BeautifulSoup as bs"
   ]
  },
  {
   "cell_type": "code",
   "execution_count": 45,
   "metadata": {
    "collapsed": true,
    "deletable": true,
    "editable": true
   },
   "outputs": [],
   "source": [
    "driver = webdriver.Chrome(executable_path=r\"C:\\Users\\joseph_th\\Downloads\\chromedriver_win32\\chromedriver\")"
   ]
  },
  {
   "cell_type": "code",
   "execution_count": 60,
   "metadata": {
    "collapsed": false
   },
   "outputs": [],
   "source": [
    "html = requests.get(\"http://hdreport.tmonc.net/SearchCategoryKeyword/?excel=0&sort_field=weight_score&sort_type=desc&current_cat_name=%EA%B5%AD%EB%82%B4%ED%95%AD%EA%B3%B5%EA%B6%8C&platform=total&cat_srl1=15000000&cat_srl2=15010000&cat_srl3=&cat_srl4=&search_weight=1&click_weight=1&buy_weight=1&cart_weight=1&statistics_type=summary&start_date=2017-01-01&end_date=2017-01-31\")"
   ]
  },
  {
   "cell_type": "code",
   "execution_count": 61,
   "metadata": {
    "collapsed": false
   },
   "outputs": [],
   "source": [
    "doc = bs(html.text, \"html.parser\")"
   ]
  },
  {
   "cell_type": "code",
   "execution_count": 74,
   "metadata": {
    "collapsed": false
   },
   "outputs": [],
   "source": [
    "tables = doc.select(\"table.result\")"
   ]
  },
  {
   "cell_type": "code",
   "execution_count": 78,
   "metadata": {
    "collapsed": false
   },
   "outputs": [
    {
     "data": {
      "text/plain": [
       "<table class=\"result\" style=\"width:1000px;\">\n",
       "<tr>\n",
       "<th class=\"title\" colspan=\"4\" style=\"text-align:left\">카테고리 별 통계량 (\n",
       "                        2017-01-01 ~ 2017-01-31\t\t\t\t\t\t)</th>\n",
       "</tr>\n",
       "<tr>\n",
       "<th style=\"text-align:center\">검색 쿼리수</th>\n",
       "<th style=\"text-align:center\">검색 사용자수</th>\n",
       "<th style=\"text-align:center\">검색 구매수</th>\n",
       "<th style=\"text-align:center\">검색 구매액</th>\n",
       "</tr>\n",
       "<tr>\n",
       "<td style=\"text-align:right;padding-right:10px;\">\n",
       "                            154,259                        </td>\n",
       "<td style=\"text-align:right;padding-right:10px;\">\n",
       "                            83,069                        </td>\n",
       "<td style=\"text-align:right;padding-right:10px;\">\n",
       "                            2,368                        </td>\n",
       "<td style=\"text-align:right;padding-right:10px;\">\n",
       "                            327,000,890                        </td>\n",
       "</tr>\n",
       "</table>"
      ]
     },
     "execution_count": 78,
     "metadata": {},
     "output_type": "execute_result"
    }
   ],
   "source": [
    "tables[0]"
   ]
  },
  {
   "cell_type": "code",
   "execution_count": 46,
   "metadata": {
    "collapsed": true
   },
   "outputs": [],
   "source": [
    "url = \"http://hdreport.tmonc.net/SearchCategoryKeyword/?excel=0&sort_field=weight_score&sort_type=desc&current_cat_name=%EA%B5%AD%EB%82%B4%ED%98%B8%ED%85%94&platform=total&cat_srl1=15000000&cat_srl2=15020000&cat_srl3=&cat_srl4=&search_weight=1&click_weight=1&buy_weight=1&cart_weight=1&statistics_type=summary&start_date=2017-01-01&end_date=2017-01-31\""
   ]
  },
  {
   "cell_type": "code",
   "execution_count": 47,
   "metadata": {
    "collapsed": false
   },
   "outputs": [],
   "source": [
    "driver.get(url)"
   ]
  },
  {
   "cell_type": "code",
   "execution_count": 23,
   "metadata": {
    "collapsed": false
   },
   "outputs": [],
   "source": [
    "table = driver.find_elements_by_css_selector(\"table.result\")"
   ]
  },
  {
   "cell_type": "code",
   "execution_count": 42,
   "metadata": {
    "collapsed": false
   },
   "outputs": [
    {
     "data": {
      "text/plain": [
       "'34,965'"
      ]
     },
     "execution_count": 42,
     "metadata": {},
     "output_type": "execute_result"
    }
   ],
   "source": [
    "#Date \n",
    "table[1].find_elements_by_css_selector(\"tr > td:nth-child(1)\")[0].text\n",
    "#Rank \n",
    "table[1].find_elements_by_css_selector(\"tr > td:nth-child(2)\")[0].text\n",
    "#Keyword\n",
    "table[1].find_elements_by_css_selector(\"tr > td:nth-child(3)\")[0].text\n",
    "#Search \n",
    "table[1].find_elements_by_css_selector(\"tr > td:nth-child(4)\")[0].text"
   ]
  }
 ],
 "metadata": {
  "kernelspec": {
   "display_name": "Python 3",
   "language": "python",
   "name": "python3"
  },
  "language_info": {
   "codemirror_mode": {
    "name": "ipython",
    "version": 3
   },
   "file_extension": ".py",
   "mimetype": "text/x-python",
   "name": "python",
   "nbconvert_exporter": "python",
   "pygments_lexer": "ipython3",
   "version": "3.6.0"
  }
 },
 "nbformat": 4,
 "nbformat_minor": 2
}
