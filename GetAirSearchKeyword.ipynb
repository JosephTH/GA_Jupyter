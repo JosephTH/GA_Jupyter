{
 "cells": [
  {
   "cell_type": "code",
   "execution_count": 1,
   "metadata": {
    "collapsed": true,
    "deletable": true,
    "editable": true
   },
   "outputs": [],
   "source": [
    "import requests"
   ]
  },
  {
   "cell_type": "code",
   "execution_count": 25,
   "metadata": {
    "collapsed": false,
    "deletable": true,
    "editable": true
   },
   "outputs": [],
   "source": [
    "payload = {\"platform\":\"all\",\"statType\":\"sum\",\"searchType\":\"like\",\"startDate\":\"2017-03-01T15:00:00.000Z\",\\\n",
    "           \"endDate\":\"2017-03-31T15:00:00.000Z\",\"sortField\":\"search_count\",\"sortType\":\"desc\",\"rankCount\":100,\\\n",
    "           \"startDealNumber\":0,\"endDealNumber\":100,\"catDepth1No\":\"15000000\",\"catDepth2No\":\"\",\"catDepth3No\":\"\",\\\n",
    "           \"catDepth4No\":\"\",\"dateCondition\":\"dt BETWEEN '2017-03-01' AND '2017-03-31'\"}\n",
    "headers = {\n",
    "    'Host': 'searchadmin.tmon.co.kr',\n",
    "    'Connection': 'keep-alive',\n",
    "    'Content-Length': '369',\n",
    "    'Accept': 'application/json, text/plain, */*',\n",
    "    'Origin': 'http://searchadmin.tmon.co.kr',\n",
    "    'User-Agent': 'Mozilla/5.0 (Windows NT 6.1; WOW64) AppleWebKit/537.36 (KHTML, like Gecko) Chrome/57.0.2987.133 Safari/537.36',\n",
    "    'Content-Type': 'application/json;charset=UTF-8',\n",
    "    'Referer': 'http://searchadmin.tmon.co.kr/totalKeywordRank',\n",
    "    'Accept-Encoding': 'gzip, deflate',\n",
    "    'Accept-Language': 'ko-KR,ko;q=0.8,en-US;q=0.6,en;q=0.4',\n",
    "    'Cookie': 'CKEY=234A0329EEA2B0EA43FDC8B89048C8A4B02C064773C707E533E794067F8894F49ED2A0F05FB812E9C7B270583B410103E3DF0F131381E122D3C81A0E810F517E31047D5F795929AD2CCB7F93A1AE6640F7C11056DDF5977B284CAAEE52DDB45520BB7A03E091286BDC84DD659BD8F26D93C513741B83EED56A54E69A671D6B854D4C0BEA66A0F6D6BC02BC11DF95423B0170D7D56175C9A9CBA05AB734B3FCB824C5C3538ED89B04025D72F21F347CF8777C21055C6F3E221843D004A4B2FF8B4F732BEAF3FEDBC7CBE1891B155E252B65FEC32CAB05D8AC12F9833698822E19; JSESSIONID=BCB0BC886B615046881D195895FD0722'\n",
    "}\n",
    "doc = requests.post(\"http://searchadmin.tmon.co.kr/totalKeywordRank/keywords\", json= payload, headers=headers)"
   ]
  },
  {
   "cell_type": "code",
   "execution_count": 26,
   "metadata": {
    "collapsed": false,
    "deletable": true,
    "editable": true
   },
   "outputs": [
    {
     "data": {
      "text/plain": [
       "'<html>\\r\\n<head><title>504 Gateway Time-out</title></head>\\r\\n<body bgcolor=\"white\">\\r\\n<center><h1>504 Gateway Time-out</h1></center>\\r\\n<hr><center>nginx</center>\\r\\n</body>\\r\\n</html>\\r\\n<!-- a padding to disable MSIE and Chrome friendly error page -->\\r\\n<!-- a padding to disable MSIE and Chrome friendly error page -->\\r\\n<!-- a padding to disable MSIE and Chrome friendly error page -->\\r\\n<!-- a padding to disable MSIE and Chrome friendly error page -->\\r\\n<!-- a padding to disable MSIE and Chrome friendly error page -->\\r\\n<!-- a padding to disable MSIE and Chrome friendly error page -->\\r\\n'"
      ]
     },
     "execution_count": 26,
     "metadata": {},
     "output_type": "execute_result"
    }
   ],
   "source": [
    "doc.text"
   ]
  }
 ],
 "metadata": {
  "kernelspec": {
   "display_name": "Python 3",
   "language": "python",
   "name": "python3"
  },
  "language_info": {
   "codemirror_mode": {
    "name": "ipython",
    "version": 3
   },
   "file_extension": ".py",
   "mimetype": "text/x-python",
   "name": "python",
   "nbconvert_exporter": "python",
   "pygments_lexer": "ipython3",
   "version": "3.6.0"
  }
 },
 "nbformat": 4,
 "nbformat_minor": 2
}
