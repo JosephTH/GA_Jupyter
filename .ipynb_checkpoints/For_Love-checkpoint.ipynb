{
 "cells": [
  {
   "cell_type": "code",
   "execution_count": 1,
   "metadata": {
    "collapsed": false,
    "deletable": true,
    "editable": true
   },
   "outputs": [],
   "source": [
    "import requests\n",
    "from bs4 import BeautifulSoup as bs\n",
    "from selenium import webdriver\n",
    "import pandas as pd"
   ]
  },
  {
   "cell_type": "code",
   "execution_count": 184,
   "metadata": {
    "collapsed": true,
    "deletable": true,
    "editable": true
   },
   "outputs": [],
   "source": [
    "df = pd.DataFrame()\n",
    "df2 = pd.DataFrame()\n",
    "df3 = pd.DataFrame()"
   ]
  },
  {
   "cell_type": "code",
   "execution_count": 185,
   "metadata": {
    "collapsed": false
   },
   "outputs": [],
   "source": [
    "dic_theme = {\"가격\":\"price\", \"효과\":\"effect\", \"만족도\": \"total\", \"감촉\": \"sence\", \"트러블\": \"trouble\", \"용량\": \"amount\",\\\n",
    "            \"보습력\": \"moisture\", \"품질\": \"quality\", \"편리성\": \"usability\", \"색상\": \"color\", \"향기\": \"smell\", \"성능\": \"performance\",\\\n",
    "            \"성분\": \"ingredient\", \"기능\": \"function\", \"디자인\": \"design\", \"커버력\": \"cover\", \"용기\": \"package\", \"지속력\": \"keep\",\\\n",
    "            \"표현력\": \"expression\", \"리필\": \"refill\", \"화장소품\": \"tool\", \"광택\": \"gloss\", \"용량\": \"amount\", \"파우더\": \"powder\"}"
   ]
  },
  {
   "cell_type": "code",
   "execution_count": 186,
   "metadata": {
    "collapsed": true
   },
   "outputs": [],
   "source": [
    "#제이앤코슈\n",
    "j_url = \"http://shopping.naver.com/detail/review_list.nhn?nvMid=10470241251&page={i}&reviewSort=accuracy&reviewSeq=&reviewType=all&topicCode={theme}\"\n",
    "j_theme= [\"가격\",\"효과\",\"만족도\",\"감촉\",\"트러블\",\"용량\",\"보습력\",\"품질\",\"편리성\",\"색상\",\"향기\",\"성능\",\"성분\",\"기능\",\"디자인\"]"
   ]
  },
  {
   "cell_type": "code",
   "execution_count": 187,
   "metadata": {
    "collapsed": true
   },
   "outputs": [],
   "source": [
    "#헤라\n",
    "h_url = \"http://shopping.naver.com/detail/review_list.nhn?nvMid=11234560185&page={i}&reviewSort=accuracy&reviewSeq=&reviewType=all&topicCode={theme}\"\n",
    "h_theme = [\"커버력\",\"가격\",\"감촉\",\"용기\",\"만족도\",\"색상\",\"지속력\",\"디자인\",\"품질\",\"효과\",\"향기\",\"표현력\",\"리필\",\"화장소품\",\"광택\",\"용량\"]"
   ]
  },
  {
   "cell_type": "code",
   "execution_count": 188,
   "metadata": {
    "collapsed": true
   },
   "outputs": [],
   "source": [
    "#입생로랑\n",
    "ip_url = \"http://shopping.naver.com/detail/review_list.nhn?nvMid=9464793064&page={i}&reviewSort=accuracy&reviewSeq=&reviewType=all&topicCode={theme}\"\n",
    "ip_theme = [\"가격\",\"감촉\",\"용기\",\"커버력\",\"만족도\",\"색상\",\"품질\",\"효과\",\"디자인\",\"리필\",\"향기\",\"표현력\",\"지속력\",\"용량\",\"화장소품\",\"광택\",\"파우더\"]"
   ]
  },
  {
   "cell_type": "code",
   "execution_count": 195,
   "metadata": {
    "collapsed": false
   },
   "outputs": [],
   "source": [
    "df.to_excel(\"제이앤코슈2.xlsx\")"
   ]
  },
  {
   "cell_type": "code",
   "execution_count": 196,
   "metadata": {
    "collapsed": true
   },
   "outputs": [],
   "source": [
    "df2.to_excel(\"입생로랑2.xlsx\")"
   ]
  },
  {
   "cell_type": "code",
   "execution_count": 197,
   "metadata": {
    "collapsed": true
   },
   "outputs": [],
   "source": [
    "df3.to_excel(\"헤라2.xlsx\")"
   ]
  },
  {
   "cell_type": "code",
   "execution_count": 189,
   "metadata": {
    "collapsed": false
   },
   "outputs": [
    {
     "name": "stdout",
     "output_type": "stream",
     "text": [
      "커버력 cover\n",
      "1\n",
      "2\n",
      "3\n",
      "4\n",
      "5\n",
      "6\n",
      "7\n",
      "가격 price\n",
      "1\n",
      "2\n",
      "3\n",
      "4\n",
      "5\n",
      "감촉 sence\n",
      "1\n",
      "2\n",
      "3\n",
      "4\n",
      "용기 package\n",
      "1\n",
      "2\n",
      "3\n",
      "만족도 total\n",
      "1\n",
      "2\n",
      "3\n",
      "색상 color\n",
      "1\n",
      "2\n",
      "3\n",
      "지속력 keep\n",
      "1\n",
      "2\n",
      "3\n",
      "디자인 design\n",
      "1\n",
      "2\n",
      "품질 quality\n",
      "1\n",
      "2\n",
      "효과 effect\n",
      "1\n",
      "향기 smell\n",
      "1\n",
      "표현력 expression\n",
      "1\n",
      "리필 refill\n",
      "1\n",
      "화장소품 tool\n",
      "1\n",
      "광택 gloss\n",
      "1\n",
      "용량 amount\n",
      "1\n"
     ]
    }
   ],
   "source": [
    "#헤라\n",
    "nth = 0\n",
    "for theme_key in h_theme:\n",
    "    theme = dic_theme[theme_key]\n",
    "    print(theme_key, theme)\n",
    "    for i in range(1,40):\n",
    "        print(i)\n",
    "        h_url = h_url = \"http://shopping.naver.com/detail/review_list.nhn?nvMid=11234560185&page={i}&reviewSort=accuracy&reviewSeq=&reviewType=all&topicCode={theme}\".format(i=i, theme=theme)\n",
    "        naver_html = requests.post(h_url)\n",
    "        html = bs(naver_html.text, \"html.parser\")\n",
    "        titles = html.find_all(\"p\", {\"class\": \"subjcet\"})\n",
    "        contents = html.find_all(\"div\", {\"class\": \"atc\"})\n",
    "        infos = html.find_all(\"span\", {\"class\": \"info\"})\n",
    "        stars = html.select(\"span.curr_avg\")\n",
    "        for n in range(0, len(contents)):\n",
    "            title = titles[n].text\n",
    "            content = contents[n].text.replace(\"\\n\", \"\").replace(\"                                        \", \"\")\n",
    "            from_site = infos[n].select_one(\".path\").text\n",
    "            date = infos[n].select_one(\".date\").text.replace(\"등록일 \",\"\")\n",
    "            highlights = contents[n].select(\"em\")\n",
    "            star = stars[n].text\n",
    "            df3.loc[nth, \"theme\"] = theme_key\n",
    "            df3.loc[nth, \"title\"] = title\n",
    "            df3.loc[nth, \"content\"] = content\n",
    "            df3.loc[nth, \"from\"] = from_site\n",
    "            df3.loc[nth, \"date\"] = date       \n",
    "            df3.loc[nth, \"star\"] = star\n",
    "            for number in range(0, len(highlights)):\n",
    "                df3.loc[nth, \"highlight{number}\".format(number=number)] = highlights[number].text\n",
    "            nth +=1\n",
    "        if len(contents) < 20:\n",
    "            break"
   ]
  },
  {
   "cell_type": "code",
   "execution_count": 190,
   "metadata": {
    "collapsed": false
   },
   "outputs": [
    {
     "name": "stdout",
     "output_type": "stream",
     "text": [
      "가격 price\n",
      "1\n",
      "2\n",
      "3\n",
      "4\n",
      "5\n",
      "6\n",
      "7\n",
      "8\n",
      "9\n",
      "10\n",
      "11\n",
      "12\n",
      "13\n",
      "14\n",
      "15\n",
      "16\n",
      "17\n",
      "감촉 sence\n",
      "1\n",
      "2\n",
      "3\n",
      "4\n",
      "5\n",
      "6\n",
      "7\n",
      "8\n",
      "9\n",
      "10\n",
      "11\n",
      "12\n",
      "용기 package\n",
      "1\n",
      "2\n",
      "3\n",
      "4\n",
      "5\n",
      "6\n",
      "7\n",
      "8\n",
      "9\n",
      "10\n",
      "11\n",
      "커버력 cover\n",
      "1\n",
      "2\n",
      "3\n",
      "4\n",
      "5\n",
      "6\n",
      "7\n",
      "8\n",
      "9\n",
      "10\n",
      "만족도 total\n",
      "1\n",
      "2\n",
      "3\n",
      "4\n",
      "5\n",
      "6\n",
      "7\n",
      "8\n",
      "색상 color\n",
      "1\n",
      "2\n",
      "3\n",
      "4\n",
      "5\n",
      "6\n",
      "7\n",
      "8\n",
      "품질 quality\n",
      "1\n",
      "2\n",
      "3\n",
      "4\n",
      "효과 effect\n",
      "1\n",
      "2\n",
      "3\n",
      "디자인 design\n",
      "1\n",
      "2\n",
      "3\n",
      "리필 refill\n",
      "1\n",
      "2\n",
      "3\n",
      "향기 smell\n",
      "1\n",
      "2\n",
      "3\n",
      "표현력 expression\n",
      "1\n",
      "2\n",
      "지속력 keep\n",
      "1\n",
      "2\n",
      "용량 amount\n",
      "1\n",
      "2\n",
      "화장소품 tool\n",
      "1\n",
      "광택 gloss\n",
      "1\n",
      "파우더 powder\n",
      "1\n"
     ]
    }
   ],
   "source": [
    "#입생로랑\n",
    "nth = 0\n",
    "for theme_key in ip_theme:\n",
    "    theme = dic_theme[theme_key]\n",
    "    print(theme_key, theme)\n",
    "    for i in range(1,40):\n",
    "        print(i)\n",
    "        ip_url = \"http://shopping.naver.com/detail/review_list.nhn?nvMid=9464793064&page={i}&reviewSort=accuracy&reviewSeq=&reviewType=all&topicCode={theme}\".format(i=i, theme=theme)\n",
    "        naver_html = requests.post(ip_url)\n",
    "        html = bs(naver_html.text, \"html.parser\")\n",
    "        titles = html.find_all(\"p\", {\"class\": \"subjcet\"})\n",
    "        contents = html.find_all(\"div\", {\"class\": \"atc\"})\n",
    "        infos = html.find_all(\"span\", {\"class\": \"info\"})\n",
    "        stars = html.select(\"span.curr_avg\")\n",
    "        for n in range(0, len(contents)):\n",
    "            title = titles[n].text\n",
    "            content = contents[n].text.replace(\"\\n\", \"\").replace(\"                                        \", \"\")\n",
    "            from_site = infos[n].select_one(\".path\").text\n",
    "            date = infos[n].select_one(\".date\").text.replace(\"등록일 \",\"\")\n",
    "            highlights = contents[n].select(\"em\")\n",
    "            star = stars[n].text\n",
    "            df2.loc[nth, \"theme\"] = theme_key\n",
    "            df2.loc[nth, \"title\"] = title\n",
    "            df2.loc[nth, \"content\"] = content\n",
    "            df2.loc[nth, \"from\"] = from_site\n",
    "            df2.loc[nth, \"date\"] = date    \n",
    "            df2.loc[nth, \"star\"] = star\n",
    "            for number in range(0, len(highlights)):\n",
    "                df2.loc[nth, \"highlight{number}\".format(number=number)] = highlights[number].text\n",
    "            nth +=1\n",
    "        if len(contents) < 20:\n",
    "            break"
   ]
  },
  {
   "cell_type": "code",
   "execution_count": 191,
   "metadata": {
    "collapsed": false,
    "deletable": true,
    "editable": true
   },
   "outputs": [
    {
     "name": "stdout",
     "output_type": "stream",
     "text": [
      "가격 price\n",
      "1\n",
      "2\n",
      "3\n",
      "4\n",
      "5\n",
      "6\n",
      "7\n",
      "8\n",
      "9\n",
      "10\n",
      "11\n",
      "12\n",
      "13\n",
      "14\n",
      "15\n",
      "16\n",
      "17\n",
      "효과 effect\n",
      "1\n",
      "2\n",
      "3\n",
      "4\n",
      "5\n",
      "6\n",
      "7\n",
      "8\n",
      "만족도 total\n",
      "1\n",
      "2\n",
      "3\n",
      "4\n",
      "5\n",
      "6\n",
      "감촉 sence\n",
      "1\n",
      "2\n",
      "3\n",
      "4\n",
      "5\n",
      "트러블 trouble\n",
      "1\n",
      "2\n",
      "3\n",
      "용량 amount\n",
      "1\n",
      "보습력 moisture\n",
      "1\n",
      "품질 quality\n",
      "1\n",
      "편리성 usability\n",
      "1\n",
      "색상 color\n",
      "1\n",
      "향기 smell\n",
      "1\n",
      "성능 performance\n",
      "1\n",
      "성분 ingredient\n",
      "1\n",
      "기능 function\n",
      "1\n",
      "디자인 design\n",
      "1\n"
     ]
    }
   ],
   "source": [
    "nth = 0\n",
    "for theme_key in j_theme:\n",
    "    theme = dic_theme[theme_key]\n",
    "    print(theme_key, theme)\n",
    "    for i in range(1,40):\n",
    "        print(i)\n",
    "        j_url = \"http://shopping.naver.com/detail/review_list.nhn?nvMid=10470241251&page={i}&reviewSort=accuracy&reviewSeq=&reviewType=all&topicCode={theme}\".format(i=i, theme=theme)\n",
    "        naver_html = requests.post(j_url)\n",
    "        html = bs(naver_html.text, \"html.parser\")\n",
    "        titles = html.find_all(\"p\", {\"class\": \"subjcet\"})\n",
    "        contents = html.find_all(\"div\", {\"class\": \"atc\"})\n",
    "        infos = html.find_all(\"span\", {\"class\": \"info\"})\n",
    "        stars = html.select(\"span.curr_avg\")\n",
    "        for n in range(0, len(contents)):\n",
    "            title = titles[n].text\n",
    "            content = contents[n].text.replace(\"\\n\", \"\").replace(\"                                        \", \"\")\n",
    "            from_site = infos[n].select_one(\".path\").text\n",
    "            date = infos[n].select_one(\".date\").text.replace(\"등록일 \",\"\")\n",
    "            highlights = contents[n].select(\"em\")\n",
    "            star = stars[n].text\n",
    "            df.loc[nth, \"theme\"] = theme_key\n",
    "            df.loc[nth, \"title\"] = title\n",
    "            df.loc[nth, \"content\"] = content\n",
    "            df.loc[nth, \"from\"] = from_site\n",
    "            df.loc[nth, \"date\"] = date   \n",
    "            df.loc[nth, \"star\"] = star\n",
    "            for number in range(0, len(highlights)):\n",
    "                df.loc[nth, \"highlight{number}\".format(number=number)] = highlights[number].text\n",
    "            nth +=1\n",
    "        if len(contents) < 20:\n",
    "            break"
   ]
  },
  {
   "cell_type": "code",
   "execution_count": 68,
   "metadata": {
    "collapsed": false,
    "deletable": true,
    "editable": true
   },
   "outputs": [],
   "source": [
    "df.to_excel(\"for_love.xlsx\")"
   ]
  }
 ],
 "metadata": {
  "kernelspec": {
   "display_name": "Python 3",
   "language": "python",
   "name": "python3"
  },
  "language_info": {
   "codemirror_mode": {
    "name": "ipython",
    "version": 3
   },
   "file_extension": ".py",
   "mimetype": "text/x-python",
   "name": "python",
   "nbconvert_exporter": "python",
   "pygments_lexer": "ipython3",
   "version": "3.6.0"
  }
 },
 "nbformat": 4,
 "nbformat_minor": 2
}
